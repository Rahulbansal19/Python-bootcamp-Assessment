{
 "cells": [
  {
   "cell_type": "code",
   "execution_count": 1,
   "id": "33231424-30f6-4450-8788-354cb303dea2",
   "metadata": {},
   "outputs": [
    {
     "name": "stdout",
     "output_type": "stream",
     "text": [
      "Convert rupees into dollars:\n"
     ]
    },
    {
     "name": "stdin",
     "output_type": "stream",
     "text": [
      "Enter the amount in Rs.: 100\n"
     ]
    },
    {
     "name": "stdout",
     "output_type": "stream",
     "text": [
      "100 convert into dollar 1.1904761904761905\n"
     ]
    }
   ],
   "source": [
    "# Create Currency Convertor in Python.\n",
    "print(\"Convert rupees into dollars:\")\n",
    "rupeesAmount = int(input(\"Enter the amount in Rs.:\"))\n",
    "rsintodollar = (rupeesAmount/84)\n",
    "print(rupeesAmount,\"convert into dollar\" , rsintodollar)"
   ]
  },
  {
   "cell_type": "code",
   "execution_count": 2,
   "id": "82f712c0-31ce-4caf-8799-3fe853dd1e93",
   "metadata": {},
   "outputs": [
    {
     "name": "stdin",
     "output_type": "stream",
     "text": [
      "Enter born year:  2003\n",
      "Enter current year:  2024\n"
     ]
    },
    {
     "name": "stdout",
     "output_type": "stream",
     "text": [
      "My Age is 21\n"
     ]
    }
   ],
   "source": [
    "# Find the Age in Year using Python when birth year given.\n",
    "born_year = int(input(\"Enter born year: \"))\n",
    "current_year = int(input(\"Enter current year: \"))\n",
    "age = current_year - born_year\n",
    "print(\"My Age is\", age)                   "
   ]
  },
  {
   "cell_type": "code",
   "execution_count": 5,
   "id": "f721d256-b7c2-40ca-9db3-59a320e15659",
   "metadata": {},
   "outputs": [
    {
     "name": "stdin",
     "output_type": "stream",
     "text": [
      "Enter your weight in kilograms:  53\n",
      "Enter your height in centimeters:  153\n"
     ]
    },
    {
     "name": "stdout",
     "output_type": "stream",
     "text": [
      "Your BMI is 22.64. You have a normal weight.\n"
     ]
    }
   ],
   "source": [
    "# Create BMI calculator in Python.\n",
    "# BMI calculator with height input in centimeters\n",
    "def calculate_bmi():\n",
    "    try:\n",
    "        # Getting input from the user\n",
    "        weight = float(input(\"Enter your weight in kilograms: \"))\n",
    "        height_cm = float(input(\"Enter your height in centimeters: \"))\n",
    "        \n",
    "        # Convert height from centimeters to meters\n",
    "        height_m = height_cm / 100\n",
    "\n",
    "        # Calculating BMI\n",
    "        bmi = weight / (height_m ** 2)\n",
    "\n",
    "        # Displaying the result with BMI categories\n",
    "        if bmi < 18.5:\n",
    "            return f\"Your BMI is {bmi:.2f}. You are underweight.\"\n",
    "        elif 18.5 <= bmi < 24.9:\n",
    "            return f\"Your BMI is {bmi:.2f}. You have a normal weight.\"\n",
    "        elif 25 <= bmi < 29.9:\n",
    "            return f\"Your BMI is {bmi:.2f}. You are overweight.\"\n",
    "        else:\n",
    "            return f\"Your BMI is {bmi:.2f}. You are in the obese range.\"\n",
    "    except ValueError:\n",
    "        return \"Please enter valid numerical values for weight and height.\"\n",
    "    except ZeroDivisionError:\n",
    "        return \"Height cannot be zero.\"\n",
    "\n",
    "# Example of the function to run locally\n",
    "print(calculate_bmi())"
   ]
  },
  {
   "cell_type": "code",
   "execution_count": null,
   "id": "fc112f6d-b33f-476b-a53e-1052a285c3c7",
   "metadata": {},
   "outputs": [],
   "source": []
  }
 ],
 "metadata": {
  "kernelspec": {
   "display_name": "Python 3 (ipykernel)",
   "language": "python",
   "name": "python3"
  },
  "language_info": {
   "codemirror_mode": {
    "name": "ipython",
    "version": 3
   },
   "file_extension": ".py",
   "mimetype": "text/x-python",
   "name": "python",
   "nbconvert_exporter": "python",
   "pygments_lexer": "ipython3",
   "version": "3.12.6"
  }
 },
 "nbformat": 4,
 "nbformat_minor": 5
}
